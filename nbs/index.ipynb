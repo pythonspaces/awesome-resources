{
 "cells": [
  {
   "cell_type": "markdown",
   "metadata": {},
   "source": [
    "# Awesome Free Resources\n",
    "\n",
    "### Free Google Certification Courses \n",
    "- [Learn Python basics for Data Analysis](https://learndigital.withgoogle.com/digitalunlocked/course/learn-python-basics-for-data-analysis)\n",
    "- [Data Science Foundations](https://t.co/Dz2Xm2lC7k)\n",
    "- [Data Science with Python](https://t.co/ATJvro8Ktk)\n",
    "- [Machine Learning Crash Course](https://learndigital.withgoogle.com/digitalunlocked/course/machine-learning-crash-course)\n",
    "- [Intro to TensorFlow for Deep Learning](https://learndigital.withgoogle.com/digitalunlocked/course/intro-to-tensorflow-for-deep-learning)\n",
    "\n",
    "\n",
    "### Become a Microsoft Certified AI Engineer for FREE\n",
    "- [Links](https://twitter.com/python_spaces/status/1580240522756886528)\n",
    "\n",
    "### Free Data Analyst Courses\n",
    "- [IBM Data Analyst Professional Certificate](https://www.coursera.org/professional-certificates/ibm-data-analyst?irclickid=QzTTwr0zmxyNTusT-Tw62Ty2UkDQ8OX1q1rDUk0&irgwc=1&utm_medium=partners&utm_source=impact&utm_campaign=2624140&utm_content=b2c)\n",
    "- [Google Data Analytics Professional Certificate](https://www.coursera.org/professional-certificates/google-data-analytics?irclickid=QzTTwr0zmxyNTusT-Tw62Ty2UkDQ8IzZq1rDUk0&irgwc=1&utm_medium=partners&utm_source=impact&utm_campaign=2624140&utm_content=b2c)\n",
    "\n",
    "\n",
    "### Google Sponsored Python Courses for FREE\n",
    "1. Introduction to Python Programming \n",
    "https://learndigital.withgoogle.com/digitalunlocked/course/introduction-to-python-programming  \n",
    "2. Programming for Everybody (Getting Started with Python)\n",
    "https://learndigital.withgoogle.com/digitalunlocked/course/programming-for-everybody-python  \n",
    "3. Python Basics \n",
    "https://learndigital.withgoogle.com/digitalunlocked/course/python-basics \n"
   ]
  },
  {
   "cell_type": "code",
   "execution_count": null,
   "metadata": {},
   "outputs": [],
   "source": []
  }
 ],
 "metadata": {
  "kernelspec": {
   "display_name": "Python 3 (ipykernel)",
   "language": "python",
   "name": "python3"
  }
 },
 "nbformat": 4,
 "nbformat_minor": 4
}
